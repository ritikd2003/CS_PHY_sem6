{
 "cells": [
  {
   "cell_type": "code",
   "execution_count": 2,
   "id": "ebc5b385",
   "metadata": {},
   "outputs": [
    {
     "name": "stdout",
     "output_type": "stream",
     "text": [
      "enter your first number =3\n",
      "enter your second number =6\n",
      "3.285680724031171\n",
      "5.496485496931095\n",
      "5.88448957278851\n",
      "5.733916115703785\n",
      "3.7759268273966615\n"
     ]
    }
   ],
   "source": [
    "#Q1\n",
    "\n",
    "import numpy as np\n",
    "import matplotlib.pyplot as plt\n",
    "\n",
    "def random_num_generator(n1,n2):\n",
    "    a = np.random.rand()  #random num b/w 0 and 1\n",
    "    if n1>n2:\n",
    "        b = a*(n1-n2) + n2\n",
    "    else:\n",
    "        b = a*(n2-n1) + n1\n",
    "    return b\n",
    "    \n",
    "n1 = float(input(\"enter your first number =\",))\n",
    "n2 = float(input(\"enter your second number =\",))\n",
    "for i in range(5):\n",
    "    c = random_num_generator(n1,n2)\n",
    "    print(c)"
   ]
  },
  {
   "cell_type": "code",
   "execution_count": 3,
   "id": "655e2346",
   "metadata": {},
   "outputs": [
    {
     "name": "stdout",
     "output_type": "stream",
     "text": [
      "no. of times you observed lunch break cycle =4\n",
      "probability of thier meeting = 0.5\n"
     ]
    }
   ],
   "source": [
    "#Q2\n",
    "\n",
    "meet = 0     # defining meet as no of times meeting happened\n",
    "b = 30       #min ,lunch break time duration\n",
    "n= int(input(\"no. of times you observed lunch break cycle =\",))\n",
    "\n",
    "\n",
    "\n",
    "for i in range(n):\n",
    "    ta = b*(np.random.rand()) # A arrival time\n",
    "    tb = b*(np.random.rand()) # B arrival time\n",
    "    if ta>tb:\n",
    "        if ta - tb <= 10:\n",
    "            #print(\"true\")\n",
    "            meet +=1\n",
    "        #else:\n",
    "            #print('false')\n",
    "\n",
    "    else:\n",
    "        if tb - ta <= 5:\n",
    "            #print(\"true\")\n",
    "            meet +=1\n",
    "        #else:\n",
    "            #print('false')\n",
    "\n",
    "        \n",
    "\n",
    "# obtaining probability of occurence of thier meeting\n",
    "print('probability of thier meeting =',meet/n)\n"
   ]
  },
  {
   "cell_type": "code",
   "execution_count": 4,
   "id": "c57923db",
   "metadata": {},
   "outputs": [
    {
     "name": "stdout",
     "output_type": "stream",
     "text": [
      "probability to cross the line is 0.31904\n",
      "probability to cross the line is 0.87164\n"
     ]
    }
   ],
   "source": [
    "#Q3\n",
    "\n",
    "#for l < d\n",
    "l = 1   #length of needle\n",
    "d = 2   #width of strip\n",
    "N = 100000  #total no. of times u thrown the needle\n",
    "\n",
    "\n",
    "cross = 0\n",
    "for i in range(N):\n",
    "    x = (d/2)*np.random.rand()\n",
    "    theta = np.pi*np.random.rand()\n",
    "    if 0.5*l*np.sin(theta) >= x:\n",
    "        cross +=1\n",
    "\n",
    "print('probability to cross the line is',cross/N)\n",
    "\n",
    "#for l > d\n",
    "\n",
    "l = 5   #length of needle\n",
    "d = 2   #width of strip\n",
    "\n",
    "cross = 0\n",
    "for i in range(N):\n",
    "    x = (d/2)*np.random.rand()\n",
    "    theta = np.pi*np.random.rand()\n",
    "    if 0.5*l*np.sin(theta) >= x:\n",
    "        cross +=1\n",
    "\n",
    "print('probability to cross the line is',cross/N)"
   ]
  },
  {
   "cell_type": "code",
   "execution_count": 10,
   "id": "d32008cd",
   "metadata": {},
   "outputs": [
    {
     "name": "stdout",
     "output_type": "stream",
     "text": [
      "final position in a single walk (with no. of step  50 ) is  0\n"
     ]
    }
   ],
   "source": [
    "#Q4\n",
    "# part A\n",
    "step = 50        # no of step in a single walk\n",
    "\n",
    "\n",
    "\n",
    "def random_walk(step):\n",
    "    n = 0         #initial position\n",
    "    for i in range(step):\n",
    "        a = np.random.rand()\n",
    "        if a<0.5:\n",
    "            n -=1\n",
    "        else:\n",
    "            n +=1\n",
    "    return int(n)\n",
    "\n",
    "\n",
    "\n",
    "print(\"final position in a single walk (with no. of step \",step, \") is \", random_walk(step))\n"
   ]
  },
  {
   "cell_type": "code",
   "execution_count": 17,
   "id": "78da00cb",
   "metadata": {},
   "outputs": [
    {
     "data": {
      "image/png": "[encoded data removed]",
      "text/plain": [
       "<Figure size 640x480 with 1 Axes>"
      ]
     },
     "metadata": {},
     "output_type": "display_data"
    }
   ],
   "source": [
    "# part B\n",
    "walker = 100000      # no of total walkers\n",
    "step = 50 \n",
    "# final_position = np.zeros(walker)\n",
    "\n",
    "\n",
    "# for i in range(walker):\n",
    "#     final_position[i] = random_walk(step)\n",
    "    \n",
    "    \n",
    "# print('for',walker,'walks, corresponding final position are ',final_position)\n",
    "\n",
    "# # defining probbility formula\n",
    "# def probability(n, N):\n",
    "#     d = (1/(np.sqrt(2*np.pi*N)))*np.exp(- (n**2)/2*N)   ### n = final position, N = no. of steps\n",
    "#     return d\n",
    "\n",
    "\n",
    "final_positions = np.zeros(step+1)\n",
    "for walker in range(walker):\n",
    "    finpos = random_walk(step)\n",
    "    pos_in_array = int((finpos+step)/2.0)\n",
    "    final_positions[pos_in_array] += 1\n",
    "\n",
    "positions = np.linspace(-step,step,step+1)\n",
    "plt.bar(positions, final_positions,)\n",
    "plt.grid()"
   ]
  },
  {
   "cell_type": "code",
   "execution_count": 5,
   "id": "0558eef8",
   "metadata": {},
   "outputs": [
    {
     "data": {
      "image/png": "[encoded data removed]",
      "text/plain": [
       "<Figure size 640x480 with 1 Axes>"
      ]
     },
     "metadata": {},
     "output_type": "display_data"
    }
   ],
   "source": [
    "#Q5\n",
    "\n",
    "l =np.zeros(step +1)\n",
    "for i in range(step +1):\n",
    "    y = np.zeros(walker)\n",
    "    for j in range(walker):\n",
    "        x = random_walk(i)\n",
    "        y[j]= x**2\n",
    "    l[i] = np.sum(y)/walker\n",
    "\n",
    "    \n",
    "\n",
    "# plotting\n",
    "x = np.linspace(0,step,step +1) # making x values \n",
    "plt.plot(x,l)\n",
    "plt.xlabel('steps')\n",
    "plt.ylabel('< x^2 >')\n",
    "plt.title('ensemble avg of position in every step vs steps of a 1 D random walk')\n",
    "plt.grid()"
   ]
  },
  {
   "cell_type": "markdown",
   "id": "c0c9bdef",
   "metadata": {},
   "source": [
    "since in random walk, mean displacement is always zero.(i.e, $< x > = 0$)  \n",
    "from this fact we can see,  \n",
    "  \n",
    "\n",
    "$$ var(x) = < x^2 > - < x >^2$$\n",
    "$$ var(x) = < x^2 > - 0$$\n",
    " $$var(x) = < x^2 >$$\n",
    "\n",
    "  \n",
    "therefore, the graph above is nothing but variance with step in 1 D random walk and i can be seen directly from the graph that variance is increasing monotonically with number of steps. "
   ]
  },
  {
   "cell_type": "code",
   "execution_count": null,
   "id": "28160fc5",
   "metadata": {},
   "outputs": [],
   "source": []
  }
 ],
 "metadata": {
  "kernelspec": {
   "display_name": "Python 3 (ipykernel)",
   "language": "python",
   "name": "python3"
  },
  "language_info": {
   "codemirror_mode": {
    "name": "ipython",
    "version": 3
   },
   "file_extension": ".py",
   "mimetype": "text/x-python",
   "name": "python",
   "nbconvert_exporter": "python",
   "pygments_lexer": "ipython3",
   "version": "3.11.5"
  }
 },
 "nbformat": 4,
 "nbformat_minor": 5
}
